{
 "cells": [
  {
   "cell_type": "code",
   "execution_count": 1,
   "metadata": {},
   "outputs": [],
   "source": [
    "import bs4 as bs"
   ]
  },
  {
   "cell_type": "code",
   "execution_count": 2,
   "metadata": {},
   "outputs": [],
   "source": [
    "import urllib.request as url"
   ]
  },
  {
   "cell_type": "code",
   "execution_count": 3,
   "metadata": {},
   "outputs": [],
   "source": [
    "source = url.urlopen('https://www.yelp.com/search?find_desc=Gyoza&find_loc=New+Jersey%2C+NJ&start=230')"
   ]
  },
  {
   "cell_type": "code",
   "execution_count": 4,
   "metadata": {},
   "outputs": [],
   "source": [
    "page_soup = bs.BeautifulSoup(source, 'html.parser')"
   ]
  },
  {
   "cell_type": "code",
   "execution_count": 5,
   "metadata": {},
   "outputs": [],
   "source": [
    "mains = page_soup.find_all(\"h3\", {\"class\": \"css-1agk4wl\"})"
   ]
  },
  {
   "cell_type": "code",
   "execution_count": 6,
   "metadata": {},
   "outputs": [],
   "source": [
    "main = mains[0] #First item of mains\n",
    "\n",
    "#Empty list for main list items\n",
    "\n",
    "busname = []\n",
    "link = []"
   ]
  },
  {
   "cell_type": "code",
   "execution_count": 7,
   "metadata": {},
   "outputs": [],
   "source": [
    "#Get Main attributes (name, ratings, noreviews, price)\n",
    "\n",
    "for main in mains:\n",
    "    try:\n",
    "        busname.append(main.find(\"a\").text)\n",
    "    except:\n",
    "        busname.append(\"None\")\n",
    "    try:\n",
    "        link.append(\"https://www.yelp.com\" + main.find(\"a\", {\"class\": \"css-1m051bw\"})['href'])\n",
    "    except:\n",
    "        link.append(\"None\")"
   ]
  },
  {
   "cell_type": "code",
   "execution_count": 8,
   "metadata": {},
   "outputs": [],
   "source": [
    "#Save work in csv file\n",
    "\n",
    "import pandas as pd\n",
    "\n",
    "data = {}\n",
    "data = {'Rest_name': busname, 'Rest_link': link}\n",
    "rest = pd.DataFrame(data)\n",
    "header = [\"Rest_name\", \"Rest_link\"]\n",
    "rest.to_csv(\"Output.csv\", columns = header)"
   ]
  },
  {
   "cell_type": "code",
   "execution_count": null,
   "metadata": {},
   "outputs": [],
   "source": []
  }
 ],
 "metadata": {
  "kernelspec": {
   "display_name": "Python 3 (ipykernel)",
   "language": "python",
   "name": "python3"
  },
  "language_info": {
   "codemirror_mode": {
    "name": "ipython",
    "version": 3
   },
   "file_extension": ".py",
   "mimetype": "text/x-python",
   "name": "python",
   "nbconvert_exporter": "python",
   "pygments_lexer": "ipython3",
   "version": "3.9.13"
  }
 },
 "nbformat": 4,
 "nbformat_minor": 2
}
